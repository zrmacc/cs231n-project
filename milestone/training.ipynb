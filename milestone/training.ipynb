{
  "nbformat": 4,
  "nbformat_minor": 0,
  "metadata": {
    "colab": {
      "name": "cs231n.ipynb",
      "provenance": [],
      "collapsed_sections": []
    },
    "kernelspec": {
      "name": "python3",
      "display_name": "Python 3"
    },
    "language_info": {
      "name": "python"
    }
  },
  "cells": [
    {
      "cell_type": "code",
      "execution_count": 217,
      "metadata": {
        "id": "ow4sfyhNHvO1"
      },
      "outputs": [],
      "source": [
        "import os\n",
        "\n",
        "import numpy as np\n",
        "import tensorflow as tf"
      ]
    },
    {
      "cell_type": "code",
      "source": [
        "os.chdir(\"/home/ec2-user/cs231n\")\n",
        "os.listdir()"
      ],
      "metadata": {
        "colab": {
          "base_uri": "https://localhost:8080/"
        },
        "id": "o55_qqceH96-",
        "outputId": "c7d43ea4-95bd-425f-c727-24f51fed8f67"
      },
      "execution_count": 218,
      "outputs": [
        {
          "output_type": "execute_result",
          "data": {
            "text/plain": [
              "['results', 'data', 'milestone']"
            ]
          },
          "metadata": {},
          "execution_count": 218
        }
      ]
    },
    {
      "cell_type": "markdown",
      "source": [
        "# Load data"
      ],
      "metadata": {
        "id": "vpTBf2cy2U31"
      }
    },
    {
      "cell_type": "code",
      "source": [
        "def load_data(dir: str) -> np.ndarray:\n",
        "    orig_dir = os.getcwd()\n",
        "    os.chdir(dir)\n",
        "    files = os.listdir()\n",
        "    arrays = []\n",
        "    for in_file in files:\n",
        "      arrays.append(np.load(in_file, allow_pickle=True))\n",
        "    out = np.stack(arrays)\n",
        "    out = np.transpose(out, (0, 2, 3, 1))\n",
        "    out = tf.image.resize(out, [224, 224])\n",
        "    os.chdir(orig_dir)\n",
        "    return out.numpy()"
      ],
      "metadata": {
        "id": "f8DkIZQo2V8z"
      },
      "execution_count": 219,
      "outputs": []
    },
    {
      "cell_type": "code",
      "source": [
        "pos = load_data(\"data/pos\")\n",
        "print(pos.shape)"
      ],
      "metadata": {
        "colab": {
          "base_uri": "https://localhost:8080/"
        },
        "id": "-_I1C7OK3lqK",
        "outputId": "1b398213-3d0a-4a99-da70-d1d95a3a70c6"
      },
      "execution_count": 220,
      "outputs": [
        {
          "output_type": "stream",
          "name": "stdout",
          "text": [
            "(15, 224, 224, 3)\n"
          ]
        }
      ]
    },
    {
      "cell_type": "code",
      "source": [
        "neg = load_data(\"data/neg\")\n",
        "print(neg.shape)"
      ],
      "metadata": {
        "colab": {
          "base_uri": "https://localhost:8080/"
        },
        "id": "sQDszdNf4JIW",
        "outputId": "921fe8fc-9032-48bf-ae42-a14860aa0031"
      },
      "execution_count": 221,
      "outputs": [
        {
          "output_type": "stream",
          "name": "stdout",
          "text": [
            "(33, 224, 224, 3)\n"
          ]
        }
      ]
    },
    {
      "cell_type": "markdown",
      "source": [
        "## Training validation split\n"
      ],
      "metadata": {
        "id": "RvW3aell6wCZ"
      }
    },
    {
      "cell_type": "code",
      "source": [
        "def gen_sampling_weights(y: np.ndarray) -> np.ndarray:\n",
        "  \"\"\"Inverse probability sampling weights.\"\"\"\n",
        "  n1 = sum(y == 1)\n",
        "  n0 = sum(y == 0)\n",
        "  p1 = n1 / (n1 + n0)\n",
        "  p0 = 1 - p1\n",
        "  w1 = 1. / p1\n",
        "  w0 = 1. / p0\n",
        "  out = np.ones_like(y)\n",
        "  out[y == 1] = w1\n",
        "  out[y == 0] = w0\n",
        "  return out"
      ],
      "metadata": {
        "id": "2zA2CAdj8bc8"
      },
      "execution_count": 222,
      "outputs": []
    },
    {
      "cell_type": "code",
      "source": [
        "train_prop = 0.6\n",
        "n1 = pos.shape[0]\n",
        "n0 = neg.shape[0]\n",
        "cut1 = int(train_prop * n1)\n",
        "cut0 = int(train_prop * n0)"
      ],
      "metadata": {
        "id": "cjr5GSRo7Qjc"
      },
      "execution_count": 223,
      "outputs": []
    },
    {
      "cell_type": "code",
      "source": [
        "pos_train = pos[:cut1, :]\n",
        "pos_val = pos[cut1:, :]\n",
        "neg_train = neg[:cut0, :]\n",
        "neg_val = neg[cut0:, :]"
      ],
      "metadata": {
        "id": "ED1dqsYk61X5"
      },
      "execution_count": 224,
      "outputs": []
    },
    {
      "cell_type": "code",
      "source": [
        "x_train = np.concatenate((pos_train, neg_train), axis=0)\n",
        "x_val = np.concatenate((pos_val, neg_val), axis=0)"
      ],
      "metadata": {
        "id": "47fYASxY4kVf"
      },
      "execution_count": 225,
      "outputs": []
    },
    {
      "cell_type": "code",
      "source": [
        "y1_train = np.ones(pos_train.shape[0])\n",
        "y0_train = np.zeros(neg_train.shape[0])\n",
        "y_train = np.concatenate((y1_train, y0_train), axis=0)\n",
        "\n",
        "y1_val = np.ones(pos_val.shape[0])\n",
        "y0_val = np.zeros(neg_val.shape[0])\n",
        "y_val = np.concatenate((y1_val, y0_val), axis=0)"
      ],
      "metadata": {
        "id": "CBctwqPx7wgf"
      },
      "execution_count": 226,
      "outputs": []
    },
    {
      "cell_type": "code",
      "source": [
        "weights_train = gen_sampling_weights(y_train)\n",
        "weights_val = gen_sampling_weights(y_val)"
      ],
      "metadata": {
        "id": "OdIdI2mU8okw"
      },
      "execution_count": 227,
      "outputs": []
    },
    {
      "cell_type": "markdown",
      "source": [
        "# Generators"
      ],
      "metadata": {
        "id": "pfI79m9OIaA3"
      }
    },
    {
      "cell_type": "code",
      "source": [
        "# Applies transformations to an input image.\n",
        "transformer = tf.keras.preprocessing.image.ImageDataGenerator(\n",
        "    rotation_range=360,\n",
        "    horizontal_flip=True,\n",
        "    vertical_flip=True,\n",
        ")"
      ],
      "metadata": {
        "id": "Lc3fbAgoIMIO"
      },
      "execution_count": 228,
      "outputs": []
    },
    {
      "cell_type": "code",
      "source": [
        "# Generators.\n",
        "train_generator = transformer.flow(\n",
        "    x=x_train,\n",
        "    y=y_train,\n",
        "    batch_size=64,\n",
        "    sample_weight=weights_train\n",
        ")\n",
        "\n",
        "val_generator = transformer.flow(\n",
        "    x=x_val,\n",
        "    y=y_val,\n",
        "    batch_size=32,\n",
        "    sample_weight=weights_val\n",
        ")"
      ],
      "metadata": {
        "id": "XwdmuOnv0tWI"
      },
      "execution_count": 229,
      "outputs": []
    },
    {
      "cell_type": "markdown",
      "source": [
        "## Model"
      ],
      "metadata": {
        "id": "zT-Jt9eF9ZSY"
      }
    },
    {
      "cell_type": "code",
      "source": [
        "# Resnet module.\n",
        "resnet = tf.keras.applications.resnet50.ResNet50(\n",
        "    include_top=False,\n",
        "    input_shape=(224, 224, 3),\n",
        "    pooling=\"avg\"\n",
        ")\n",
        "resnet.trainable = False"
      ],
      "metadata": {
        "id": "xJEzoOVD9ccs"
      },
      "execution_count": 230,
      "outputs": []
    },
    {
      "cell_type": "code",
      "source": [
        "# Model.\n",
        "inputs = tf.keras.Input(shape=(224, 224, 3), name=\"input\")\n",
        "h = resnet(inputs, training=False)\n",
        "outputs = tf.keras.layers.Dense(1, activation=\"sigmoid\", name=\"output\")(h)\n",
        "model = tf.keras.Model(inputs, outputs)"
      ],
      "metadata": {
        "id": "xeBIK29GE-nM"
      },
      "execution_count": 231,
      "outputs": []
    },
    {
      "cell_type": "code",
      "source": [
        "# Compile.\n",
        "model.compile(\n",
        "    optimizer=tf.keras.optimizers.Adam(learning_rate=1e-4),\n",
        "    loss=tf.keras.losses.BinaryCrossentropy(),\n",
        "    metrics=[\n",
        "        tf.keras.metrics.BinaryAccuracy(name=\"acc\"),\n",
        "        tf.keras.metrics.AUC(name=\"auc\")\n",
        "      ]\n",
        ")"
      ],
      "metadata": {
        "id": "d4ywR_P1GMkx"
      },
      "execution_count": 232,
      "outputs": []
    },
    {
      "cell_type": "code",
      "source": [
        "# Model summary.\n",
        "model.summary()"
      ],
      "metadata": {
        "colab": {
          "base_uri": "https://localhost:8080/"
        },
        "id": "EDasIMuxHBtW",
        "outputId": "d16766cd-23a1-46c1-eddc-ee069155b70c"
      },
      "execution_count": 233,
      "outputs": [
        {
          "output_type": "stream",
          "name": "stdout",
          "text": [
            "Model: \"model_7\"\n",
            "_________________________________________________________________\n",
            "Layer (type)                 Output Shape              Param #   \n",
            "=================================================================\n",
            "input (InputLayer)           [(None, 224, 224, 3)]     0         \n",
            "_________________________________________________________________\n",
            "resnet50 (Functional)        (None, 2048)              23587712  \n",
            "_________________________________________________________________\n",
            "output (Dense)               (None, 1)                 2049      \n",
            "=================================================================\n",
            "Total params: 23,589,761\n",
            "Trainable params: 2,049\n",
            "Non-trainable params: 23,587,712\n",
            "_________________________________________________________________\n"
          ]
        }
      ]
    },
    {
      "cell_type": "code",
      "source": [
        "# Callbacks.\n",
        "callbacks = [\n",
        "  tf.keras.callbacks.TensorBoard(log_dir=\"milestone\"),\n",
        "  tf.keras.callbacks.EarlyStopping(patience=10, restore_best_weights=True)\n",
        "]"
      ],
      "metadata": {
        "id": "bm3vxsJBHazX"
      },
      "execution_count": 234,
      "outputs": []
    },
    {
      "cell_type": "markdown",
      "source": [
        "## Training"
      ],
      "metadata": {
        "id": "SFocHc3_HPrQ"
      }
    },
    {
      "cell_type": "code",
      "source": [
        "hist = model.fit(\n",
        "    x=train_generator,\n",
        "    validation_data=val_generator,\n",
        "    validation_freq=10,\n",
        "    epochs=200,\n",
        "    callbacks=callbacks,\n",
        ")"
      ],
      "metadata": {
        "colab": {
          "base_uri": "https://localhost:8080/"
        },
        "id": "OVTjfIUMHQ4u",
        "outputId": "c2855526-947e-45d6-fe0a-832f2206b417"
      },
      "execution_count": 236,
      "outputs": [
        {
          "output_type": "stream",
          "name": "stdout",
          "text": [
            "Epoch 1/200\n",
            "1/1 [==============================] - 2s 2s/step - loss: 1.3855 - acc: 0.5714 - auc: 0.4737\n",
            "WARNING:tensorflow:Early stopping conditioned on metric `val_loss` which is not available. Available metrics are: loss,acc,auc\n",
            "Epoch 2/200\n",
            "1/1 [==============================] - 2s 2s/step - loss: 1.3847 - acc: 0.6429 - auc: 0.5000\n",
            "WARNING:tensorflow:Early stopping conditioned on metric `val_loss` which is not available. Available metrics are: loss,acc,auc\n",
            "Epoch 3/200\n",
            "1/1 [==============================] - 1s 1s/step - loss: 1.3846 - acc: 0.6786 - auc: 0.5000\n",
            "WARNING:tensorflow:Early stopping conditioned on metric `val_loss` which is not available. Available metrics are: loss,acc,auc\n",
            "Epoch 4/200\n",
            "1/1 [==============================] - 1s 1s/step - loss: 1.3837 - acc: 0.7857 - auc: 0.5000\n",
            "WARNING:tensorflow:Early stopping conditioned on metric `val_loss` which is not available. Available metrics are: loss,acc,auc\n",
            "Epoch 5/200\n",
            "1/1 [==============================] - 1s 1s/step - loss: 1.3851 - acc: 0.6429 - auc: 0.4737\n",
            "WARNING:tensorflow:Early stopping conditioned on metric `val_loss` which is not available. Available metrics are: loss,acc,auc\n",
            "Epoch 6/200\n",
            "1/1 [==============================] - 1s 1s/step - loss: 1.3840 - acc: 0.8214 - auc: 0.5292\n",
            "WARNING:tensorflow:Early stopping conditioned on metric `val_loss` which is not available. Available metrics are: loss,acc,auc\n",
            "Epoch 7/200\n",
            "1/1 [==============================] - 2s 2s/step - loss: 1.3857 - acc: 0.6429 - auc: 0.4211\n",
            "WARNING:tensorflow:Early stopping conditioned on metric `val_loss` which is not available. Available metrics are: loss,acc,auc\n",
            "Epoch 8/200\n",
            "1/1 [==============================] - 1s 1s/step - loss: 1.3849 - acc: 0.5714 - auc: 0.5848\n",
            "WARNING:tensorflow:Early stopping conditioned on metric `val_loss` which is not available. Available metrics are: loss,acc,auc\n",
            "Epoch 9/200\n",
            "1/1 [==============================] - 1s 1s/step - loss: 1.3845 - acc: 0.6786 - auc: 0.5848\n",
            "WARNING:tensorflow:Early stopping conditioned on metric `val_loss` which is not available. Available metrics are: loss,acc,auc\n",
            "Epoch 10/200\n",
            "1/1 [==============================] - 3s 3s/step - loss: 1.3842 - acc: 0.6786 - auc: 0.5848 - val_loss: 1.3860 - val_acc: 0.5500 - val_auc: 0.4643\n",
            "Epoch 11/200\n",
            "1/1 [==============================] - 1s 1s/step - loss: 1.3854 - acc: 0.6786 - auc: 0.5292\n",
            "WARNING:tensorflow:Early stopping conditioned on metric `val_loss` which is not available. Available metrics are: loss,acc,auc\n",
            "Epoch 12/200\n",
            "1/1 [==============================] - 1s 1s/step - loss: 1.3850 - acc: 0.6786 - auc: 0.5029\n",
            "WARNING:tensorflow:Early stopping conditioned on metric `val_loss` which is not available. Available metrics are: loss,acc,auc\n",
            "Epoch 13/200\n",
            "1/1 [==============================] - 1s 1s/step - loss: 1.3844 - acc: 0.7143 - auc: 0.5292\n",
            "WARNING:tensorflow:Early stopping conditioned on metric `val_loss` which is not available. Available metrics are: loss,acc,auc\n",
            "Epoch 14/200\n",
            "1/1 [==============================] - 1s 1s/step - loss: 1.3843 - acc: 0.7143 - auc: 0.5585\n",
            "WARNING:tensorflow:Early stopping conditioned on metric `val_loss` which is not available. Available metrics are: loss,acc,auc\n",
            "Epoch 15/200\n",
            "1/1 [==============================] - 2s 2s/step - loss: 1.3852 - acc: 0.6071 - auc: 0.5292\n",
            "WARNING:tensorflow:Early stopping conditioned on metric `val_loss` which is not available. Available metrics are: loss,acc,auc\n",
            "Epoch 16/200\n",
            "1/1 [==============================] - 1s 1s/step - loss: 1.3858 - acc: 0.6071 - auc: 0.4737\n",
            "WARNING:tensorflow:Early stopping conditioned on metric `val_loss` which is not available. Available metrics are: loss,acc,auc\n",
            "Epoch 17/200\n",
            "1/1 [==============================] - 2s 2s/step - loss: 1.3843 - acc: 0.6786 - auc: 0.5526\n",
            "WARNING:tensorflow:Early stopping conditioned on metric `val_loss` which is not available. Available metrics are: loss,acc,auc\n",
            "Epoch 18/200\n",
            "1/1 [==============================] - 2s 2s/step - loss: 1.3850 - acc: 0.6429 - auc: 0.4737\n",
            "WARNING:tensorflow:Early stopping conditioned on metric `val_loss` which is not available. Available metrics are: loss,acc,auc\n",
            "Epoch 19/200\n",
            "1/1 [==============================] - 1s 1s/step - loss: 1.3861 - acc: 0.6429 - auc: 0.4737\n",
            "WARNING:tensorflow:Early stopping conditioned on metric `val_loss` which is not available. Available metrics are: loss,acc,auc\n",
            "Epoch 20/200\n",
            "1/1 [==============================] - 3s 3s/step - loss: 1.3823 - acc: 0.8571 - auc: 0.6023 - val_loss: 1.3847 - val_acc: 0.7000 - val_auc: 0.4643\n",
            "Epoch 21/200\n",
            "1/1 [==============================] - 1s 1s/step - loss: 1.3847 - acc: 0.7143 - auc: 0.5029\n",
            "WARNING:tensorflow:Early stopping conditioned on metric `val_loss` which is not available. Available metrics are: loss,acc,auc\n",
            "Epoch 22/200\n",
            "1/1 [==============================] - 1s 1s/step - loss: 1.3848 - acc: 0.7143 - auc: 0.5585\n",
            "WARNING:tensorflow:Early stopping conditioned on metric `val_loss` which is not available. Available metrics are: loss,acc,auc\n",
            "Epoch 23/200\n",
            "1/1 [==============================] - 2s 2s/step - loss: 1.3844 - acc: 0.6429 - auc: 0.5848\n",
            "WARNING:tensorflow:Early stopping conditioned on metric `val_loss` which is not available. Available metrics are: loss,acc,auc\n",
            "Epoch 24/200\n",
            "1/1 [==============================] - 1s 1s/step - loss: 1.3849 - acc: 0.8214 - auc: 0.5000\n",
            "WARNING:tensorflow:Early stopping conditioned on metric `val_loss` which is not available. Available metrics are: loss,acc,auc\n",
            "Epoch 25/200\n",
            "1/1 [==============================] - 1s 1s/step - loss: 1.3841 - acc: 0.6429 - auc: 0.5848\n",
            "WARNING:tensorflow:Early stopping conditioned on metric `val_loss` which is not available. Available metrics are: loss,acc,auc\n",
            "Epoch 26/200\n",
            "1/1 [==============================] - 1s 1s/step - loss: 1.3844 - acc: 0.6071 - auc: 0.5000\n",
            "WARNING:tensorflow:Early stopping conditioned on metric `val_loss` which is not available. Available metrics are: loss,acc,auc\n",
            "Epoch 27/200\n",
            "1/1 [==============================] - 2s 2s/step - loss: 1.3836 - acc: 0.7500 - auc: 0.5263\n",
            "WARNING:tensorflow:Early stopping conditioned on metric `val_loss` which is not available. Available metrics are: loss,acc,auc\n",
            "Epoch 28/200\n",
            "1/1 [==============================] - 2s 2s/step - loss: 1.3833 - acc: 0.6786 - auc: 0.6842\n",
            "WARNING:tensorflow:Early stopping conditioned on metric `val_loss` which is not available. Available metrics are: loss,acc,auc\n",
            "Epoch 29/200\n",
            "1/1 [==============================] - 2s 2s/step - loss: 1.3838 - acc: 0.7500 - auc: 0.5848\n",
            "WARNING:tensorflow:Early stopping conditioned on metric `val_loss` which is not available. Available metrics are: loss,acc,auc\n",
            "Epoch 30/200\n",
            "1/1 [==============================] - 3s 3s/step - loss: 1.3842 - acc: 0.5000 - auc: 0.5848 - val_loss: 1.3855 - val_acc: 0.6500 - val_auc: 0.5000\n",
            "Epoch 31/200\n",
            "1/1 [==============================] - 2s 2s/step - loss: 1.3851 - acc: 0.5357 - auc: 0.5292\n",
            "WARNING:tensorflow:Early stopping conditioned on metric `val_loss` which is not available. Available metrics are: loss,acc,auc\n",
            "Epoch 32/200\n",
            "1/1 [==============================] - 2s 2s/step - loss: 1.3845 - acc: 0.5357 - auc: 0.6053\n",
            "WARNING:tensorflow:Early stopping conditioned on metric `val_loss` which is not available. Available metrics are: loss,acc,auc\n",
            "Epoch 33/200\n",
            "1/1 [==============================] - 1s 1s/step - loss: 1.3845 - acc: 0.5000 - auc: 0.5292\n",
            "WARNING:tensorflow:Early stopping conditioned on metric `val_loss` which is not available. Available metrics are: loss,acc,auc\n",
            "Epoch 34/200\n",
            "1/1 [==============================] - 2s 2s/step - loss: 1.3854 - acc: 0.5000 - auc: 0.4474\n",
            "WARNING:tensorflow:Early stopping conditioned on metric `val_loss` which is not available. Available metrics are: loss,acc,auc\n",
            "Epoch 35/200\n",
            "1/1 [==============================] - 2s 2s/step - loss: 1.3855 - acc: 0.4286 - auc: 0.4737\n",
            "WARNING:tensorflow:Early stopping conditioned on metric `val_loss` which is not available. Available metrics are: loss,acc,auc\n",
            "Epoch 36/200\n",
            "1/1 [==============================] - 1s 1s/step - loss: 1.3848 - acc: 0.4643 - auc: 0.5263\n",
            "WARNING:tensorflow:Early stopping conditioned on metric `val_loss` which is not available. Available metrics are: loss,acc,auc\n",
            "Epoch 37/200\n",
            "1/1 [==============================] - 2s 2s/step - loss: 1.3859 - acc: 0.4286 - auc: 0.4503\n",
            "WARNING:tensorflow:Early stopping conditioned on metric `val_loss` which is not available. Available metrics are: loss,acc,auc\n",
            "Epoch 38/200\n",
            "1/1 [==============================] - 2s 2s/step - loss: 1.3842 - acc: 0.5357 - auc: 0.5029\n",
            "WARNING:tensorflow:Early stopping conditioned on metric `val_loss` which is not available. Available metrics are: loss,acc,auc\n",
            "Epoch 39/200\n",
            "1/1 [==============================] - 1s 1s/step - loss: 1.3839 - acc: 0.6071 - auc: 0.5556\n",
            "WARNING:tensorflow:Early stopping conditioned on metric `val_loss` which is not available. Available metrics are: loss,acc,auc\n",
            "Epoch 40/200\n",
            "1/1 [==============================] - 3s 3s/step - loss: 1.3842 - acc: 0.6429 - auc: 0.5585 - val_loss: 1.3862 - val_acc: 0.5000 - val_auc: 0.3929\n",
            "Epoch 41/200\n",
            "1/1 [==============================] - 2s 2s/step - loss: 1.3849 - acc: 0.6786 - auc: 0.5556\n",
            "WARNING:tensorflow:Early stopping conditioned on metric `val_loss` which is not available. Available metrics are: loss,acc,auc\n",
            "Epoch 42/200\n",
            "1/1 [==============================] - 1s 1s/step - loss: 1.3838 - acc: 0.7143 - auc: 0.6053\n",
            "WARNING:tensorflow:Early stopping conditioned on metric `val_loss` which is not available. Available metrics are: loss,acc,auc\n",
            "Epoch 43/200\n",
            "1/1 [==============================] - 1s 1s/step - loss: 1.3831 - acc: 0.6786 - auc: 0.7018\n",
            "WARNING:tensorflow:Early stopping conditioned on metric `val_loss` which is not available. Available metrics are: loss,acc,auc\n",
            "Epoch 44/200\n",
            "1/1 [==============================] - 2s 2s/step - loss: 1.3844 - acc: 0.6786 - auc: 0.6140\n",
            "WARNING:tensorflow:Early stopping conditioned on metric `val_loss` which is not available. Available metrics are: loss,acc,auc\n",
            "Epoch 45/200\n",
            "1/1 [==============================] - 2s 2s/step - loss: 1.3847 - acc: 0.6429 - auc: 0.6404\n",
            "WARNING:tensorflow:Early stopping conditioned on metric `val_loss` which is not available. Available metrics are: loss,acc,auc\n",
            "Epoch 46/200\n",
            "1/1 [==============================] - 2s 2s/step - loss: 1.3836 - acc: 0.7143 - auc: 0.5585\n",
            "WARNING:tensorflow:Early stopping conditioned on metric `val_loss` which is not available. Available metrics are: loss,acc,auc\n",
            "Epoch 47/200\n",
            "1/1 [==============================] - 2s 2s/step - loss: 1.3838 - acc: 0.7143 - auc: 0.5263\n",
            "WARNING:tensorflow:Early stopping conditioned on metric `val_loss` which is not available. Available metrics are: loss,acc,auc\n",
            "Epoch 48/200\n",
            "1/1 [==============================] - 2s 2s/step - loss: 1.3834 - acc: 0.6786 - auc: 0.6579\n",
            "WARNING:tensorflow:Early stopping conditioned on metric `val_loss` which is not available. Available metrics are: loss,acc,auc\n",
            "Epoch 49/200\n",
            "1/1 [==============================] - 2s 2s/step - loss: 1.3840 - acc: 0.8214 - auc: 0.5292\n",
            "WARNING:tensorflow:Early stopping conditioned on metric `val_loss` which is not available. Available metrics are: loss,acc,auc\n",
            "Epoch 50/200\n",
            "1/1 [==============================] - 3s 3s/step - loss: 1.3844 - acc: 0.7500 - auc: 0.5556 - val_loss: 1.3849 - val_acc: 0.8000 - val_auc: 0.4643\n",
            "Epoch 51/200\n",
            "1/1 [==============================] - 1s 1s/step - loss: 1.3856 - acc: 0.6429 - auc: 0.5292\n",
            "WARNING:tensorflow:Early stopping conditioned on metric `val_loss` which is not available. Available metrics are: loss,acc,auc\n",
            "Epoch 52/200\n",
            "1/1 [==============================] - 2s 2s/step - loss: 1.3832 - acc: 0.8571 - auc: 0.5789\n",
            "WARNING:tensorflow:Early stopping conditioned on metric `val_loss` which is not available. Available metrics are: loss,acc,auc\n",
            "Epoch 53/200\n",
            "1/1 [==============================] - 1s 1s/step - loss: 1.3851 - acc: 0.7143 - auc: 0.5292\n",
            "WARNING:tensorflow:Early stopping conditioned on metric `val_loss` which is not available. Available metrics are: loss,acc,auc\n",
            "Epoch 54/200\n",
            "1/1 [==============================] - 1s 1s/step - loss: 1.3845 - acc: 0.8214 - auc: 0.4737\n",
            "WARNING:tensorflow:Early stopping conditioned on metric `val_loss` which is not available. Available metrics are: loss,acc,auc\n",
            "Epoch 55/200\n",
            "1/1 [==============================] - 1s 1s/step - loss: 1.3843 - acc: 0.7857 - auc: 0.6111\n",
            "WARNING:tensorflow:Early stopping conditioned on metric `val_loss` which is not available. Available metrics are: loss,acc,auc\n",
            "Epoch 56/200\n",
            "1/1 [==============================] - 1s 1s/step - loss: 1.3839 - acc: 0.7500 - auc: 0.5526\n",
            "WARNING:tensorflow:Early stopping conditioned on metric `val_loss` which is not available. Available metrics are: loss,acc,auc\n",
            "Epoch 57/200\n",
            "1/1 [==============================] - 1s 1s/step - loss: 1.3850 - acc: 0.7143 - auc: 0.4737\n",
            "WARNING:tensorflow:Early stopping conditioned on metric `val_loss` which is not available. Available metrics are: loss,acc,auc\n",
            "Epoch 58/200\n",
            "1/1 [==============================] - 1s 1s/step - loss: 1.3836 - acc: 0.7500 - auc: 0.5000\n",
            "WARNING:tensorflow:Early stopping conditioned on metric `val_loss` which is not available. Available metrics are: loss,acc,auc\n",
            "Epoch 59/200\n",
            "1/1 [==============================] - 1s 1s/step - loss: 1.3842 - acc: 0.7143 - auc: 0.5292\n",
            "WARNING:tensorflow:Early stopping conditioned on metric `val_loss` which is not available. Available metrics are: loss,acc,auc\n",
            "Epoch 60/200\n",
            "1/1 [==============================] - 3s 3s/step - loss: 1.3848 - acc: 0.7857 - auc: 0.5000 - val_loss: 1.3851 - val_acc: 0.6000 - val_auc: 0.5000\n",
            "Epoch 61/200\n",
            "1/1 [==============================] - 1s 1s/step - loss: 1.3847 - acc: 0.6429 - auc: 0.5292\n",
            "WARNING:tensorflow:Early stopping conditioned on metric `val_loss` which is not available. Available metrics are: loss,acc,auc\n",
            "Epoch 62/200\n",
            "1/1 [==============================] - 1s 1s/step - loss: 1.3833 - acc: 0.6786 - auc: 0.6053\n",
            "WARNING:tensorflow:Early stopping conditioned on metric `val_loss` which is not available. Available metrics are: loss,acc,auc\n",
            "Epoch 63/200\n",
            "1/1 [==============================] - 1s 1s/step - loss: 1.3845 - acc: 0.7143 - auc: 0.5322\n",
            "WARNING:tensorflow:Early stopping conditioned on metric `val_loss` which is not available. Available metrics are: loss,acc,auc\n",
            "Epoch 64/200\n",
            "1/1 [==============================] - 2s 2s/step - loss: 1.3840 - acc: 0.6429 - auc: 0.6111\n",
            "WARNING:tensorflow:Early stopping conditioned on metric `val_loss` which is not available. Available metrics are: loss,acc,auc\n",
            "Epoch 65/200\n",
            "1/1 [==============================] - 2s 2s/step - loss: 1.3835 - acc: 0.7143 - auc: 0.5556\n",
            "WARNING:tensorflow:Early stopping conditioned on metric `val_loss` which is not available. Available metrics are: loss,acc,auc\n",
            "Epoch 66/200\n",
            "1/1 [==============================] - 2s 2s/step - loss: 1.3835 - acc: 0.7500 - auc: 0.5556\n",
            "WARNING:tensorflow:Early stopping conditioned on metric `val_loss` which is not available. Available metrics are: loss,acc,auc\n",
            "Epoch 67/200\n",
            "1/1 [==============================] - 1s 1s/step - loss: 1.3841 - acc: 0.5714 - auc: 0.5556\n",
            "WARNING:tensorflow:Early stopping conditioned on metric `val_loss` which is not available. Available metrics are: loss,acc,auc\n",
            "Epoch 68/200\n",
            "1/1 [==============================] - 1s 1s/step - loss: 1.3847 - acc: 0.7143 - auc: 0.5000\n",
            "WARNING:tensorflow:Early stopping conditioned on metric `val_loss` which is not available. Available metrics are: loss,acc,auc\n",
            "Epoch 69/200\n",
            "1/1 [==============================] - 1s 1s/step - loss: 1.3851 - acc: 0.6786 - auc: 0.5292\n",
            "WARNING:tensorflow:Early stopping conditioned on metric `val_loss` which is not available. Available metrics are: loss,acc,auc\n",
            "Epoch 70/200\n",
            "1/1 [==============================] - 3s 3s/step - loss: 1.3853 - acc: 0.7143 - auc: 0.4737 - val_loss: 1.3858 - val_acc: 0.6000 - val_auc: 0.4643\n",
            "Epoch 71/200\n",
            "1/1 [==============================] - 2s 2s/step - loss: 1.3843 - acc: 0.8214 - auc: 0.5000\n",
            "WARNING:tensorflow:Early stopping conditioned on metric `val_loss` which is not available. Available metrics are: loss,acc,auc\n",
            "Epoch 72/200\n",
            "1/1 [==============================] - 2s 2s/step - loss: 1.3832 - acc: 0.7143 - auc: 0.6111\n",
            "WARNING:tensorflow:Early stopping conditioned on metric `val_loss` which is not available. Available metrics are: loss,acc,auc\n",
            "Epoch 73/200\n",
            "1/1 [==============================] - 2s 2s/step - loss: 1.3853 - acc: 0.6786 - auc: 0.5292\n",
            "WARNING:tensorflow:Early stopping conditioned on metric `val_loss` which is not available. Available metrics are: loss,acc,auc\n",
            "Epoch 74/200\n",
            "1/1 [==============================] - 2s 2s/step - loss: 1.3836 - acc: 0.7500 - auc: 0.5848\n",
            "WARNING:tensorflow:Early stopping conditioned on metric `val_loss` which is not available. Available metrics are: loss,acc,auc\n",
            "Epoch 75/200\n",
            "1/1 [==============================] - 1s 1s/step - loss: 1.3826 - acc: 0.7143 - auc: 0.7368\n",
            "WARNING:tensorflow:Early stopping conditioned on metric `val_loss` which is not available. Available metrics are: loss,acc,auc\n",
            "Epoch 76/200\n",
            "1/1 [==============================] - 1s 1s/step - loss: 1.3851 - acc: 0.6429 - auc: 0.5263\n",
            "WARNING:tensorflow:Early stopping conditioned on metric `val_loss` which is not available. Available metrics are: loss,acc,auc\n",
            "Epoch 77/200\n",
            "1/1 [==============================] - 2s 2s/step - loss: 1.3846 - acc: 0.6429 - auc: 0.5292\n",
            "WARNING:tensorflow:Early stopping conditioned on metric `val_loss` which is not available. Available metrics are: loss,acc,auc\n",
            "Epoch 78/200\n",
            "1/1 [==============================] - 1s 1s/step - loss: 1.3855 - acc: 0.6429 - auc: 0.5322\n",
            "WARNING:tensorflow:Early stopping conditioned on metric `val_loss` which is not available. Available metrics are: loss,acc,auc\n",
            "Epoch 79/200\n",
            "1/1 [==============================] - 2s 2s/step - loss: 1.3844 - acc: 0.7143 - auc: 0.5556\n",
            "WARNING:tensorflow:Early stopping conditioned on metric `val_loss` which is not available. Available metrics are: loss,acc,auc\n",
            "Epoch 80/200\n",
            "1/1 [==============================] - 3s 3s/step - loss: 1.3847 - acc: 0.7500 - auc: 0.5292 - val_loss: 1.3849 - val_acc: 0.6500 - val_auc: 0.4643\n",
            "Epoch 81/200\n",
            "1/1 [==============================] - 1s 1s/step - loss: 1.3840 - acc: 0.6071 - auc: 0.5848\n",
            "WARNING:tensorflow:Early stopping conditioned on metric `val_loss` which is not available. Available metrics are: loss,acc,auc\n",
            "Epoch 82/200\n",
            "1/1 [==============================] - 1s 1s/step - loss: 1.3842 - acc: 0.7857 - auc: 0.5029\n",
            "WARNING:tensorflow:Early stopping conditioned on metric `val_loss` which is not available. Available metrics are: loss,acc,auc\n",
            "Epoch 83/200\n",
            "1/1 [==============================] - 1s 1s/step - loss: 1.3848 - acc: 0.7143 - auc: 0.5556\n",
            "WARNING:tensorflow:Early stopping conditioned on metric `val_loss` which is not available. Available metrics are: loss,acc,auc\n",
            "Epoch 84/200\n",
            "1/1 [==============================] - 1s 1s/step - loss: 1.3843 - acc: 0.6429 - auc: 0.5292\n",
            "WARNING:tensorflow:Early stopping conditioned on metric `val_loss` which is not available. Available metrics are: loss,acc,auc\n",
            "Epoch 85/200\n",
            "1/1 [==============================] - 2s 2s/step - loss: 1.3860 - acc: 0.6429 - auc: 0.4766\n",
            "WARNING:tensorflow:Early stopping conditioned on metric `val_loss` which is not available. Available metrics are: loss,acc,auc\n",
            "Epoch 86/200\n",
            "1/1 [==============================] - 2s 2s/step - loss: 1.3839 - acc: 0.7857 - auc: 0.5848\n",
            "WARNING:tensorflow:Early stopping conditioned on metric `val_loss` which is not available. Available metrics are: loss,acc,auc\n",
            "Epoch 87/200\n",
            "1/1 [==============================] - 1s 1s/step - loss: 1.3854 - acc: 0.6071 - auc: 0.5292\n",
            "WARNING:tensorflow:Early stopping conditioned on metric `val_loss` which is not available. Available metrics are: loss,acc,auc\n",
            "Epoch 88/200\n",
            "1/1 [==============================] - 1s 1s/step - loss: 1.3843 - acc: 0.6786 - auc: 0.5263\n",
            "WARNING:tensorflow:Early stopping conditioned on metric `val_loss` which is not available. Available metrics are: loss,acc,auc\n",
            "Epoch 89/200\n",
            "1/1 [==============================] - 2s 2s/step - loss: 1.3825 - acc: 0.7500 - auc: 0.6053\n",
            "WARNING:tensorflow:Early stopping conditioned on metric `val_loss` which is not available. Available metrics are: loss,acc,auc\n",
            "Epoch 90/200\n",
            "1/1 [==============================] - 3s 3s/step - loss: 1.3841 - acc: 0.7857 - auc: 0.5292 - val_loss: 1.3826 - val_acc: 0.7500 - val_auc: 0.5357\n",
            "Epoch 91/200\n",
            "1/1 [==============================] - 1s 1s/step - loss: 1.3846 - acc: 0.6786 - auc: 0.4737\n",
            "WARNING:tensorflow:Early stopping conditioned on metric `val_loss` which is not available. Available metrics are: loss,acc,auc\n",
            "Epoch 92/200\n",
            "1/1 [==============================] - 1s 1s/step - loss: 1.3840 - acc: 0.6786 - auc: 0.5263\n",
            "WARNING:tensorflow:Early stopping conditioned on metric `val_loss` which is not available. Available metrics are: loss,acc,auc\n",
            "Epoch 93/200\n",
            "1/1 [==============================] - 1s 1s/step - loss: 1.3851 - acc: 0.6429 - auc: 0.5263\n",
            "WARNING:tensorflow:Early stopping conditioned on metric `val_loss` which is not available. Available metrics are: loss,acc,auc\n",
            "Epoch 94/200\n",
            "1/1 [==============================] - 2s 2s/step - loss: 1.3837 - acc: 0.7143 - auc: 0.5526\n",
            "WARNING:tensorflow:Early stopping conditioned on metric `val_loss` which is not available. Available metrics are: loss,acc,auc\n",
            "Epoch 95/200\n",
            "1/1 [==============================] - 2s 2s/step - loss: 1.3838 - acc: 0.6786 - auc: 0.5994\n",
            "WARNING:tensorflow:Early stopping conditioned on metric `val_loss` which is not available. Available metrics are: loss,acc,auc\n",
            "Epoch 96/200\n",
            "1/1 [==============================] - 1s 1s/step - loss: 1.3845 - acc: 0.6429 - auc: 0.5526\n",
            "WARNING:tensorflow:Early stopping conditioned on metric `val_loss` which is not available. Available metrics are: loss,acc,auc\n",
            "Epoch 97/200\n",
            "1/1 [==============================] - 1s 1s/step - loss: 1.3841 - acc: 0.7143 - auc: 0.5000\n",
            "WARNING:tensorflow:Early stopping conditioned on metric `val_loss` which is not available. Available metrics are: loss,acc,auc\n",
            "Epoch 98/200\n",
            "1/1 [==============================] - 2s 2s/step - loss: 1.3830 - acc: 0.8929 - auc: 0.5000\n",
            "WARNING:tensorflow:Early stopping conditioned on metric `val_loss` which is not available. Available metrics are: loss,acc,auc\n",
            "Epoch 99/200\n",
            "1/1 [==============================] - 2s 2s/step - loss: 1.3838 - acc: 0.7500 - auc: 0.5556\n",
            "WARNING:tensorflow:Early stopping conditioned on metric `val_loss` which is not available. Available metrics are: loss,acc,auc\n",
            "Epoch 100/200\n",
            "1/1 [==============================] - 3s 3s/step - loss: 1.3835 - acc: 0.7143 - auc: 0.6404 - val_loss: 1.3851 - val_acc: 0.7500 - val_auc: 0.5000\n",
            "Epoch 101/200\n",
            "1/1 [==============================] - 1s 1s/step - loss: 1.3851 - acc: 0.6429 - auc: 0.5789\n",
            "WARNING:tensorflow:Early stopping conditioned on metric `val_loss` which is not available. Available metrics are: loss,acc,auc\n",
            "Epoch 102/200\n",
            "1/1 [==============================] - 2s 2s/step - loss: 1.3845 - acc: 0.6071 - auc: 0.5292\n",
            "WARNING:tensorflow:Early stopping conditioned on metric `val_loss` which is not available. Available metrics are: loss,acc,auc\n",
            "Epoch 103/200\n",
            "1/1 [==============================] - 2s 2s/step - loss: 1.3847 - acc: 0.5714 - auc: 0.5848\n",
            "WARNING:tensorflow:Early stopping conditioned on metric `val_loss` which is not available. Available metrics are: loss,acc,auc\n",
            "Epoch 104/200\n",
            "1/1 [==============================] - 1s 1s/step - loss: 1.3851 - acc: 0.6429 - auc: 0.4737\n",
            "WARNING:tensorflow:Early stopping conditioned on metric `val_loss` which is not available. Available metrics are: loss,acc,auc\n",
            "Epoch 105/200\n",
            "1/1 [==============================] - 1s 1s/step - loss: 1.3840 - acc: 0.7143 - auc: 0.5556\n",
            "WARNING:tensorflow:Early stopping conditioned on metric `val_loss` which is not available. Available metrics are: loss,acc,auc\n",
            "Epoch 106/200\n",
            "1/1 [==============================] - 1s 1s/step - loss: 1.3831 - acc: 0.7857 - auc: 0.6579\n",
            "WARNING:tensorflow:Early stopping conditioned on metric `val_loss` which is not available. Available metrics are: loss,acc,auc\n",
            "Epoch 107/200\n",
            "1/1 [==============================] - 1s 1s/step - loss: 1.3852 - acc: 0.6429 - auc: 0.5292\n",
            "WARNING:tensorflow:Early stopping conditioned on metric `val_loss` which is not available. Available metrics are: loss,acc,auc\n",
            "Epoch 108/200\n",
            "1/1 [==============================] - 1s 1s/step - loss: 1.3851 - acc: 0.5714 - auc: 0.5029\n",
            "WARNING:tensorflow:Early stopping conditioned on metric `val_loss` which is not available. Available metrics are: loss,acc,auc\n",
            "Epoch 109/200\n",
            "1/1 [==============================] - 2s 2s/step - loss: 1.3837 - acc: 0.6786 - auc: 0.5789\n",
            "WARNING:tensorflow:Early stopping conditioned on metric `val_loss` which is not available. Available metrics are: loss,acc,auc\n",
            "Epoch 110/200\n",
            "1/1 [==============================] - 3s 3s/step - loss: 1.3836 - acc: 0.7857 - auc: 0.6111 - val_loss: 1.3842 - val_acc: 0.7500 - val_auc: 0.5476\n",
            "Epoch 111/200\n",
            "1/1 [==============================] - 2s 2s/step - loss: 1.3837 - acc: 0.7857 - auc: 0.5848\n",
            "WARNING:tensorflow:Early stopping conditioned on metric `val_loss` which is not available. Available metrics are: loss,acc,auc\n",
            "Epoch 112/200\n",
            "1/1 [==============================] - 1s 1s/step - loss: 1.3838 - acc: 0.7857 - auc: 0.5994\n",
            "WARNING:tensorflow:Early stopping conditioned on metric `val_loss` which is not available. Available metrics are: loss,acc,auc\n",
            "Epoch 113/200\n",
            "1/1 [==============================] - 2s 2s/step - loss: 1.3842 - acc: 0.6786 - auc: 0.5263\n",
            "WARNING:tensorflow:Early stopping conditioned on metric `val_loss` which is not available. Available metrics are: loss,acc,auc\n",
            "Epoch 114/200\n",
            "1/1 [==============================] - 1s 1s/step - loss: 1.3844 - acc: 0.7500 - auc: 0.5292\n",
            "WARNING:tensorflow:Early stopping conditioned on metric `val_loss` which is not available. Available metrics are: loss,acc,auc\n",
            "Epoch 115/200\n",
            "1/1 [==============================] - 1s 1s/step - loss: 1.3833 - acc: 0.7500 - auc: 0.5789\n",
            "WARNING:tensorflow:Early stopping conditioned on metric `val_loss` which is not available. Available metrics are: loss,acc,auc\n",
            "Epoch 116/200\n",
            "1/1 [==============================] - 2s 2s/step - loss: 1.3831 - acc: 0.7143 - auc: 0.7515\n",
            "WARNING:tensorflow:Early stopping conditioned on metric `val_loss` which is not available. Available metrics are: loss,acc,auc\n",
            "Epoch 117/200\n",
            "1/1 [==============================] - 2s 2s/step - loss: 1.3846 - acc: 0.6429 - auc: 0.5585\n",
            "WARNING:tensorflow:Early stopping conditioned on metric `val_loss` which is not available. Available metrics are: loss,acc,auc\n",
            "Epoch 118/200\n",
            "1/1 [==============================] - 1s 1s/step - loss: 1.3841 - acc: 0.7143 - auc: 0.5877\n",
            "WARNING:tensorflow:Early stopping conditioned on metric `val_loss` which is not available. Available metrics are: loss,acc,auc\n",
            "Epoch 119/200\n",
            "1/1 [==============================] - 2s 2s/step - loss: 1.3850 - acc: 0.6071 - auc: 0.5585\n",
            "WARNING:tensorflow:Early stopping conditioned on metric `val_loss` which is not available. Available metrics are: loss,acc,auc\n",
            "Epoch 120/200\n",
            "1/1 [==============================] - 3s 3s/step - loss: 1.3846 - acc: 0.7857 - auc: 0.5263 - val_loss: 1.3839 - val_acc: 0.7500 - val_auc: 0.5833\n",
            "Epoch 121/200\n",
            "1/1 [==============================] - 1s 1s/step - loss: 1.3833 - acc: 0.7143 - auc: 0.6111\n",
            "WARNING:tensorflow:Early stopping conditioned on metric `val_loss` which is not available. Available metrics are: loss,acc,auc\n",
            "Epoch 122/200\n",
            "1/1 [==============================] - 2s 2s/step - loss: 1.3839 - acc: 0.7500 - auc: 0.5029\n",
            "WARNING:tensorflow:Early stopping conditioned on metric `val_loss` which is not available. Available metrics are: loss,acc,auc\n",
            "Epoch 123/200\n",
            "1/1 [==============================] - 2s 2s/step - loss: 1.3842 - acc: 0.7143 - auc: 0.5877\n",
            "WARNING:tensorflow:Early stopping conditioned on metric `val_loss` which is not available. Available metrics are: loss,acc,auc\n",
            "Epoch 124/200\n",
            "1/1 [==============================] - 1s 1s/step - loss: 1.3848 - acc: 0.6429 - auc: 0.6140\n",
            "WARNING:tensorflow:Early stopping conditioned on metric `val_loss` which is not available. Available metrics are: loss,acc,auc\n",
            "Epoch 125/200\n",
            "1/1 [==============================] - 2s 2s/step - loss: 1.3843 - acc: 0.7143 - auc: 0.5000\n",
            "WARNING:tensorflow:Early stopping conditioned on metric `val_loss` which is not available. Available metrics are: loss,acc,auc\n",
            "Epoch 126/200\n",
            "1/1 [==============================] - 2s 2s/step - loss: 1.3837 - acc: 0.7500 - auc: 0.6316\n",
            "WARNING:tensorflow:Early stopping conditioned on metric `val_loss` which is not available. Available metrics are: loss,acc,auc\n",
            "Epoch 127/200\n",
            "1/1 [==============================] - 1s 1s/step - loss: 1.3840 - acc: 0.7143 - auc: 0.5556\n",
            "WARNING:tensorflow:Early stopping conditioned on metric `val_loss` which is not available. Available metrics are: loss,acc,auc\n",
            "Epoch 128/200\n",
            "1/1 [==============================] - 2s 2s/step - loss: 1.3825 - acc: 0.7857 - auc: 0.6053\n",
            "WARNING:tensorflow:Early stopping conditioned on metric `val_loss` which is not available. Available metrics are: loss,acc,auc\n",
            "Epoch 129/200\n",
            "1/1 [==============================] - 2s 2s/step - loss: 1.3819 - acc: 0.8571 - auc: 0.7368\n",
            "WARNING:tensorflow:Early stopping conditioned on metric `val_loss` which is not available. Available metrics are: loss,acc,auc\n",
            "Epoch 130/200\n",
            "1/1 [==============================] - 3s 3s/step - loss: 1.3843 - acc: 0.7857 - auc: 0.5877 - val_loss: 1.3851 - val_acc: 0.6000 - val_auc: 0.4643\n",
            "Epoch 131/200\n",
            "1/1 [==============================] - 1s 1s/step - loss: 1.3829 - acc: 0.7500 - auc: 0.6111\n",
            "WARNING:tensorflow:Early stopping conditioned on metric `val_loss` which is not available. Available metrics are: loss,acc,auc\n",
            "Epoch 132/200\n",
            "1/1 [==============================] - 1s 1s/step - loss: 1.3828 - acc: 0.7857 - auc: 0.6404\n",
            "WARNING:tensorflow:Early stopping conditioned on metric `val_loss` which is not available. Available metrics are: loss,acc,auc\n",
            "Epoch 133/200\n",
            "1/1 [==============================] - 1s 1s/step - loss: 1.3831 - acc: 0.8214 - auc: 0.5585\n",
            "WARNING:tensorflow:Early stopping conditioned on metric `val_loss` which is not available. Available metrics are: loss,acc,auc\n",
            "Epoch 134/200\n",
            "1/1 [==============================] - 2s 2s/step - loss: 1.3826 - acc: 0.8571 - auc: 0.7105\n",
            "WARNING:tensorflow:Early stopping conditioned on metric `val_loss` which is not available. Available metrics are: loss,acc,auc\n",
            "Epoch 135/200\n",
            "1/1 [==============================] - 2s 2s/step - loss: 1.3846 - acc: 0.7143 - auc: 0.5292\n",
            "WARNING:tensorflow:Early stopping conditioned on metric `val_loss` which is not available. Available metrics are: loss,acc,auc\n",
            "Epoch 136/200\n",
            "1/1 [==============================] - 2s 2s/step - loss: 1.3837 - acc: 0.6786 - auc: 0.6316\n",
            "WARNING:tensorflow:Early stopping conditioned on metric `val_loss` which is not available. Available metrics are: loss,acc,auc\n",
            "Epoch 137/200\n",
            "1/1 [==============================] - 2s 2s/step - loss: 1.3831 - acc: 0.7500 - auc: 0.6520\n",
            "WARNING:tensorflow:Early stopping conditioned on metric `val_loss` which is not available. Available metrics are: loss,acc,auc\n",
            "Epoch 138/200\n",
            "1/1 [==============================] - 2s 2s/step - loss: 1.3834 - acc: 0.8214 - auc: 0.6404\n",
            "WARNING:tensorflow:Early stopping conditioned on metric `val_loss` which is not available. Available metrics are: loss,acc,auc\n",
            "Epoch 139/200\n",
            "1/1 [==============================] - 2s 2s/step - loss: 1.3849 - acc: 0.6429 - auc: 0.5848\n",
            "WARNING:tensorflow:Early stopping conditioned on metric `val_loss` which is not available. Available metrics are: loss,acc,auc\n",
            "Epoch 140/200\n",
            "1/1 [==============================] - 3s 3s/step - loss: 1.3828 - acc: 0.7857 - auc: 0.5556 - val_loss: 1.3835 - val_acc: 0.6000 - val_auc: 0.5833\n",
            "Epoch 141/200\n",
            "1/1 [==============================] - 1s 1s/step - loss: 1.3826 - acc: 0.7500 - auc: 0.6053\n",
            "WARNING:tensorflow:Early stopping conditioned on metric `val_loss` which is not available. Available metrics are: loss,acc,auc\n",
            "Epoch 142/200\n",
            "1/1 [==============================] - 2s 2s/step - loss: 1.3820 - acc: 0.7143 - auc: 0.6842\n",
            "WARNING:tensorflow:Early stopping conditioned on metric `val_loss` which is not available. Available metrics are: loss,acc,auc\n",
            "Epoch 143/200\n",
            "1/1 [==============================] - 1s 1s/step - loss: 1.3838 - acc: 0.7857 - auc: 0.5526\n",
            "WARNING:tensorflow:Early stopping conditioned on metric `val_loss` which is not available. Available metrics are: loss,acc,auc\n",
            "Epoch 144/200\n",
            "1/1 [==============================] - 1s 1s/step - loss: 1.3833 - acc: 0.8571 - auc: 0.5848\n",
            "WARNING:tensorflow:Early stopping conditioned on metric `val_loss` which is not available. Available metrics are: loss,acc,auc\n",
            "Epoch 145/200\n",
            "1/1 [==============================] - 1s 1s/step - loss: 1.3819 - acc: 0.8214 - auc: 0.6842\n",
            "WARNING:tensorflow:Early stopping conditioned on metric `val_loss` which is not available. Available metrics are: loss,acc,auc\n",
            "Epoch 146/200\n",
            "1/1 [==============================] - 2s 2s/step - loss: 1.3830 - acc: 0.7500 - auc: 0.6053\n",
            "WARNING:tensorflow:Early stopping conditioned on metric `val_loss` which is not available. Available metrics are: loss,acc,auc\n",
            "Epoch 147/200\n",
            "1/1 [==============================] - 2s 2s/step - loss: 1.3829 - acc: 0.6786 - auc: 0.6053\n",
            "WARNING:tensorflow:Early stopping conditioned on metric `val_loss` which is not available. Available metrics are: loss,acc,auc\n",
            "Epoch 148/200\n",
            "1/1 [==============================] - 2s 2s/step - loss: 1.3832 - acc: 0.8214 - auc: 0.5526\n",
            "WARNING:tensorflow:Early stopping conditioned on metric `val_loss` which is not available. Available metrics are: loss,acc,auc\n",
            "Epoch 149/200\n",
            "1/1 [==============================] - 1s 1s/step - loss: 1.3837 - acc: 0.7857 - auc: 0.6111\n",
            "WARNING:tensorflow:Early stopping conditioned on metric `val_loss` which is not available. Available metrics are: loss,acc,auc\n",
            "Epoch 150/200\n",
            "1/1 [==============================] - 3s 3s/step - loss: 1.3837 - acc: 0.7857 - auc: 0.5789 - val_loss: 1.3869 - val_acc: 0.7000 - val_auc: 0.3929\n",
            "Epoch 151/200\n",
            "1/1 [==============================] - 1s 1s/step - loss: 1.3830 - acc: 0.7857 - auc: 0.5848\n",
            "WARNING:tensorflow:Early stopping conditioned on metric `val_loss` which is not available. Available metrics are: loss,acc,auc\n",
            "Epoch 152/200\n",
            "1/1 [==============================] - 1s 1s/step - loss: 1.3851 - acc: 0.6429 - auc: 0.5848\n",
            "WARNING:tensorflow:Early stopping conditioned on metric `val_loss` which is not available. Available metrics are: loss,acc,auc\n",
            "Epoch 153/200\n",
            "1/1 [==============================] - 2s 2s/step - loss: 1.3844 - acc: 0.7143 - auc: 0.5877\n",
            "WARNING:tensorflow:Early stopping conditioned on metric `val_loss` which is not available. Available metrics are: loss,acc,auc\n",
            "Epoch 154/200\n",
            "1/1 [==============================] - 2s 2s/step - loss: 1.3839 - acc: 0.7500 - auc: 0.6140\n",
            "WARNING:tensorflow:Early stopping conditioned on metric `val_loss` which is not available. Available metrics are: loss,acc,auc\n",
            "Epoch 155/200\n",
            "1/1 [==============================] - 2s 2s/step - loss: 1.3851 - acc: 0.6429 - auc: 0.5848\n",
            "WARNING:tensorflow:Early stopping conditioned on metric `val_loss` which is not available. Available metrics are: loss,acc,auc\n",
            "Epoch 156/200\n",
            "1/1 [==============================] - 2s 2s/step - loss: 1.3823 - acc: 0.7500 - auc: 0.6842\n",
            "WARNING:tensorflow:Early stopping conditioned on metric `val_loss` which is not available. Available metrics are: loss,acc,auc\n",
            "Epoch 157/200\n",
            "1/1 [==============================] - 1s 1s/step - loss: 1.3832 - acc: 0.7143 - auc: 0.5556\n",
            "WARNING:tensorflow:Early stopping conditioned on metric `val_loss` which is not available. Available metrics are: loss,acc,auc\n",
            "Epoch 158/200\n",
            "1/1 [==============================] - 1s 1s/step - loss: 1.3846 - acc: 0.6786 - auc: 0.5848\n",
            "WARNING:tensorflow:Early stopping conditioned on metric `val_loss` which is not available. Available metrics are: loss,acc,auc\n",
            "Epoch 159/200\n",
            "1/1 [==============================] - 2s 2s/step - loss: 1.3833 - acc: 0.7143 - auc: 0.5848\n",
            "WARNING:tensorflow:Early stopping conditioned on metric `val_loss` which is not available. Available metrics are: loss,acc,auc\n",
            "Epoch 160/200\n",
            "1/1 [==============================] - 3s 3s/step - loss: 1.3835 - acc: 0.7143 - auc: 0.6140 - val_loss: 1.3841 - val_acc: 0.6000 - val_auc: 0.4643\n",
            "Epoch 161/200\n",
            "1/1 [==============================] - 1s 1s/step - loss: 1.3838 - acc: 0.7500 - auc: 0.6404\n",
            "WARNING:tensorflow:Early stopping conditioned on metric `val_loss` which is not available. Available metrics are: loss,acc,auc\n",
            "Epoch 162/200\n",
            "1/1 [==============================] - 2s 2s/step - loss: 1.3838 - acc: 0.7500 - auc: 0.6140\n",
            "WARNING:tensorflow:Early stopping conditioned on metric `val_loss` which is not available. Available metrics are: loss,acc,auc\n",
            "Epoch 163/200\n",
            "1/1 [==============================] - 2s 2s/step - loss: 1.3831 - acc: 0.7500 - auc: 0.6404\n",
            "WARNING:tensorflow:Early stopping conditioned on metric `val_loss` which is not available. Available metrics are: loss,acc,auc\n",
            "Epoch 164/200\n",
            "1/1 [==============================] - 2s 2s/step - loss: 1.3832 - acc: 0.7857 - auc: 0.6053\n",
            "WARNING:tensorflow:Early stopping conditioned on metric `val_loss` which is not available. Available metrics are: loss,acc,auc\n",
            "Epoch 165/200\n",
            "1/1 [==============================] - 2s 2s/step - loss: 1.3836 - acc: 0.7857 - auc: 0.5585\n",
            "WARNING:tensorflow:Early stopping conditioned on metric `val_loss` which is not available. Available metrics are: loss,acc,auc\n",
            "Epoch 166/200\n",
            "1/1 [==============================] - 2s 2s/step - loss: 1.3830 - acc: 0.7857 - auc: 0.6404\n",
            "WARNING:tensorflow:Early stopping conditioned on metric `val_loss` which is not available. Available metrics are: loss,acc,auc\n",
            "Epoch 167/200\n",
            "1/1 [==============================] - 2s 2s/step - loss: 1.3832 - acc: 0.7143 - auc: 0.6140\n",
            "WARNING:tensorflow:Early stopping conditioned on metric `val_loss` which is not available. Available metrics are: loss,acc,auc\n",
            "Epoch 168/200\n",
            "1/1 [==============================] - 2s 2s/step - loss: 1.3835 - acc: 0.6786 - auc: 0.6053\n",
            "WARNING:tensorflow:Early stopping conditioned on metric `val_loss` which is not available. Available metrics are: loss,acc,auc\n",
            "Epoch 169/200\n",
            "1/1 [==============================] - 1s 1s/step - loss: 1.3834 - acc: 0.7143 - auc: 0.6316\n",
            "WARNING:tensorflow:Early stopping conditioned on metric `val_loss` which is not available. Available metrics are: loss,acc,auc\n",
            "Epoch 170/200\n",
            "1/1 [==============================] - 3s 3s/step - loss: 1.3833 - acc: 0.7857 - auc: 0.5848 - val_loss: 1.3843 - val_acc: 0.7000 - val_auc: 0.5357\n",
            "Epoch 171/200\n",
            "1/1 [==============================] - 2s 2s/step - loss: 1.3842 - acc: 0.7500 - auc: 0.5292\n",
            "WARNING:tensorflow:Early stopping conditioned on metric `val_loss` which is not available. Available metrics are: loss,acc,auc\n",
            "Epoch 172/200\n",
            "1/1 [==============================] - 2s 2s/step - loss: 1.3820 - acc: 0.8571 - auc: 0.6111\n",
            "WARNING:tensorflow:Early stopping conditioned on metric `val_loss` which is not available. Available metrics are: loss,acc,auc\n",
            "Epoch 173/200\n",
            "1/1 [==============================] - 2s 2s/step - loss: 1.3837 - acc: 0.6786 - auc: 0.6404\n",
            "WARNING:tensorflow:Early stopping conditioned on metric `val_loss` which is not available. Available metrics are: loss,acc,auc\n",
            "Epoch 174/200\n",
            "1/1 [==============================] - 1s 1s/step - loss: 1.3829 - acc: 0.7857 - auc: 0.5789\n",
            "WARNING:tensorflow:Early stopping conditioned on metric `val_loss` which is not available. Available metrics are: loss,acc,auc\n",
            "Epoch 175/200\n",
            "1/1 [==============================] - 1s 1s/step - loss: 1.3838 - acc: 0.7857 - auc: 0.5556\n",
            "WARNING:tensorflow:Early stopping conditioned on metric `val_loss` which is not available. Available metrics are: loss,acc,auc\n",
            "Epoch 176/200\n",
            "1/1 [==============================] - 1s 1s/step - loss: 1.3840 - acc: 0.7143 - auc: 0.5789\n",
            "WARNING:tensorflow:Early stopping conditioned on metric `val_loss` which is not available. Available metrics are: loss,acc,auc\n",
            "Epoch 177/200\n",
            "1/1 [==============================] - 1s 1s/step - loss: 1.3833 - acc: 0.7143 - auc: 0.5848\n",
            "WARNING:tensorflow:Early stopping conditioned on metric `val_loss` which is not available. Available metrics are: loss,acc,auc\n",
            "Epoch 178/200\n",
            "1/1 [==============================] - 2s 2s/step - loss: 1.3841 - acc: 0.6429 - auc: 0.6842\n",
            "WARNING:tensorflow:Early stopping conditioned on metric `val_loss` which is not available. Available metrics are: loss,acc,auc\n",
            "Epoch 179/200\n",
            "1/1 [==============================] - 1s 1s/step - loss: 1.3830 - acc: 0.7857 - auc: 0.5848\n",
            "WARNING:tensorflow:Early stopping conditioned on metric `val_loss` which is not available. Available metrics are: loss,acc,auc\n",
            "Epoch 180/200\n",
            "1/1 [==============================] - 3s 3s/step - loss: 1.3822 - acc: 0.8214 - auc: 0.6316 - val_loss: 1.3850 - val_acc: 0.6000 - val_auc: 0.5476\n",
            "Epoch 181/200\n",
            "1/1 [==============================] - 1s 1s/step - loss: 1.3833 - acc: 0.7857 - auc: 0.5556\n",
            "WARNING:tensorflow:Early stopping conditioned on metric `val_loss` which is not available. Available metrics are: loss,acc,auc\n",
            "Epoch 182/200\n",
            "1/1 [==============================] - 2s 2s/step - loss: 1.3845 - acc: 0.6071 - auc: 0.5029\n",
            "WARNING:tensorflow:Early stopping conditioned on metric `val_loss` which is not available. Available metrics are: loss,acc,auc\n",
            "Epoch 183/200\n",
            "1/1 [==============================] - 1s 1s/step - loss: 1.3839 - acc: 0.7500 - auc: 0.5585\n",
            "WARNING:tensorflow:Early stopping conditioned on metric `val_loss` which is not available. Available metrics are: loss,acc,auc\n",
            "Epoch 184/200\n",
            "1/1 [==============================] - 2s 2s/step - loss: 1.3822 - acc: 0.8214 - auc: 0.5789\n",
            "WARNING:tensorflow:Early stopping conditioned on metric `val_loss` which is not available. Available metrics are: loss,acc,auc\n",
            "Epoch 185/200\n",
            "1/1 [==============================] - 2s 2s/step - loss: 1.3831 - acc: 0.7143 - auc: 0.5848\n",
            "WARNING:tensorflow:Early stopping conditioned on metric `val_loss` which is not available. Available metrics are: loss,acc,auc\n",
            "Epoch 186/200\n",
            "1/1 [==============================] - 2s 2s/step - loss: 1.3832 - acc: 0.7143 - auc: 0.5526\n",
            "WARNING:tensorflow:Early stopping conditioned on metric `val_loss` which is not available. Available metrics are: loss,acc,auc\n",
            "Epoch 187/200\n",
            "1/1 [==============================] - 1s 1s/step - loss: 1.3826 - acc: 0.8214 - auc: 0.5585\n",
            "WARNING:tensorflow:Early stopping conditioned on metric `val_loss` which is not available. Available metrics are: loss,acc,auc\n",
            "Epoch 188/200\n",
            "1/1 [==============================] - 1s 1s/step - loss: 1.3817 - acc: 0.8571 - auc: 0.7222\n",
            "WARNING:tensorflow:Early stopping conditioned on metric `val_loss` which is not available. Available metrics are: loss,acc,auc\n",
            "Epoch 189/200\n",
            "1/1 [==============================] - 1s 1s/step - loss: 1.3823 - acc: 0.7857 - auc: 0.6579\n",
            "WARNING:tensorflow:Early stopping conditioned on metric `val_loss` which is not available. Available metrics are: loss,acc,auc\n",
            "Epoch 190/200\n",
            "1/1 [==============================] - 3s 3s/step - loss: 1.3837 - acc: 0.6786 - auc: 0.5789 - val_loss: 1.3845 - val_acc: 0.7000 - val_auc: 0.5833\n"
          ]
        }
      ]
    },
    {
      "cell_type": "code",
      "source": [
        "model.evaluate(\n",
        "    x=x_train,\n",
        "    y=y_train\n",
        ")"
      ],
      "metadata": {
        "colab": {
          "base_uri": "https://localhost:8080/"
        },
        "id": "pfnxdqZDKJT3",
        "outputId": "37751365-f1de-4dc8-ebd9-59018b412a23"
      },
      "execution_count": 238,
      "outputs": [
        {
          "output_type": "stream",
          "name": "stdout",
          "text": [
            "1/1 [==============================] - 2s 2s/step - loss: 0.6920 - acc: 0.7857 - auc: 0.6404\n"
          ]
        },
        {
          "output_type": "execute_result",
          "data": {
            "text/plain": [
              "[0.6920239329338074, 0.7857142686843872, 0.6403509378433228]"
            ]
          },
          "metadata": {},
          "execution_count": 238
        }
      ]
    },
    {
      "cell_type": "code",
      "source": [
        "model.evaluate(\n",
        "    x=x_val,\n",
        "    y=y_val\n",
        ")"
      ],
      "metadata": {
        "colab": {
          "base_uri": "https://localhost:8080/"
        },
        "id": "-nk8LVEETqJx",
        "outputId": "777d1f6a-d8ff-4399-ee26-3a61dc82840e"
      },
      "execution_count": 239,
      "outputs": [
        {
          "output_type": "stream",
          "name": "stdout",
          "text": [
            "1/1 [==============================] - 1s 1s/step - loss: 0.6926 - acc: 0.6000 - auc: 0.6131\n"
          ]
        },
        {
          "output_type": "execute_result",
          "data": {
            "text/plain": [
              "[0.6926261186599731, 0.6000000238418579, 0.613095223903656]"
            ]
          },
          "metadata": {},
          "execution_count": 239
        }
      ]
    },
    {
      "cell_type": "code",
      "source": [
        "model.save(\"results/milestone_model\")"
      ],
      "metadata": {
        "colab": {
          "base_uri": "https://localhost:8080/"
        },
        "id": "EMxlZF07TxUy",
        "outputId": "7e08b1d6-81c2-4153-d6ca-6b027876ec93"
      },
      "execution_count": 240,
      "outputs": [
        {
          "output_type": "stream",
          "name": "stdout",
          "text": [
            "INFO:tensorflow:Assets written to: results/milestone_model/assets\n"
          ]
        },
        {
          "output_type": "stream",
          "name": "stderr",
          "text": [
            "/home/ec2-user/miniconda3/envs/vxm/lib/python3.9/site-packages/keras/utils/generic_utils.py:494: CustomMaskWarning: Custom mask layers require a config and must override get_config. When loading, the custom mask layer must be passed to the custom_objects argument.\n",
            "  warnings.warn('Custom mask layers require a config and must override '\n"
          ]
        }
      ]
    }
  ]
}